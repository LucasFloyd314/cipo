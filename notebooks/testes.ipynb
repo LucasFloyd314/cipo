{
 "cells": [
  {
   "cell_type": "code",
   "execution_count": 3,
   "id": "c2a9dc1b",
   "metadata": {},
   "outputs": [],
   "source": [
    "import numpy\n",
    "import cipo\n",
    "from cipo import neo\n"
   ]
  },
  {
   "cell_type": "code",
   "execution_count": 14,
   "id": "d1b894b1",
   "metadata": {},
   "outputs": [],
   "source": [
    "import cipo\n",
    "from cipo import neo"
   ]
  },
  {
   "cell_type": "code",
   "execution_count": 9,
   "id": "50ec90a7",
   "metadata": {},
   "outputs": [
    {
     "name": "stdout",
     "output_type": "stream",
     "text": [
      "teste\n",
      "Hello from cipo!\n"
     ]
    }
   ],
   "source": [
    "cipo.teste()\n",
    "\n"
   ]
  },
  {
   "cell_type": "code",
   "execution_count": null,
   "id": "51173c4a",
   "metadata": {},
   "outputs": [
    {
     "name": "stdout",
     "output_type": "stream",
     "text": [
      "Iniciando a busca de dados no Minor Planet Center...\n",
      "Dados coletados com sucesso.\n",
      "\n",
      "========================================\n",
      "--- OBJETOS ENCONTRADOS ---\n",
      "1. A11rtVp\n",
      "2. A11swfc\n",
      "3. A11tdT4\n",
      "4. A11te0q\n",
      "5. C15ARR5\n",
      "6. C15C5G5\n",
      "7. C15C6N5\n",
      "8. C15C8L5\n",
      "9. C15F2V5\n",
      "10. C15FG75\n",
      "11. C15FQ25\n",
      "12. C15FVZ5\n",
      "13. C15FXN5\n",
      "14. C15GVQ5\n",
      "15. C15HHN5\n",
      "16. C450TM1\n",
      "17. CDFZQD2\n",
      "18. CDH9MC2\n",
      "19. CDHC6C2\n",
      "20. LA0A8pi\n",
      "21. MHS2790\n",
      "22. ON03877\n",
      "23. ON04699\n",
      "24. OS01973\n",
      "25. P12erud\n",
      "26. P12f2Di\n",
      "27. P12f66r\n",
      "28. P12fR9i\n",
      "29. P12fT9x\n",
      "30. P12fU1Q\n",
      "31. P12fUjs\n",
      "32. P12fUQu\n",
      "33. P12fURF\n",
      "34. P12fXMR\n",
      "35. P12fXNw\n",
      "36. P12fXQw\n",
      "37. P12fYSQ\n",
      "38. P12fYSR\n",
      "39. P12fYTh\n",
      "40. P12fYTs\n",
      "41. P12fYTt\n",
      "42. P12fZLu\n",
      "43. P12fZMm\n",
      "44. P12g2tX\n",
      "45. P22bZYt\n",
      "46. P22eEIp\n",
      "47. P22eumM\n",
      "48. P22eVrH\n",
      "49. P22f1nO\n",
      "50. P22f67g\n",
      "51. P22fJLY\n",
      "52. P22fLot\n",
      "53. P22fLou\n",
      "54. P22fOmk\n",
      "55. P22fP0R\n",
      "56. P22fP0S\n",
      "57. P22fP0V\n",
      "58. P22fP0W\n",
      "59. P22fPzj\n",
      "60. P22fPzk\n",
      "61. P22fPzl\n",
      "62. P22fPzm\n",
      "63. P22fR95\n",
      "64. P22fR96\n",
      "65. P22fR97\n",
      "66. P22fR98\n",
      "67. P22fR9h\n",
      "68. P22fTGb\n",
      "69. P22fTGc\n",
      "70. P22fTJf\n",
      "71. P22fTJg\n",
      "72. P22fU1Y\n",
      "73. P22fUFj\n",
      "74. P22fUQs\n",
      "75. P22fUQv\n",
      "76. P22fUZw\n",
      "77. P22fVxD\n",
      "78. P22fVxE\n",
      "79. P22fXMO\n",
      "80. P22fXMP\n",
      "81. P22fXTu\n",
      "82. P22fYSP\n",
      "83. P22fZPg\n",
      "84. P22g0U7\n",
      "85. P22g1f2\n",
      "86. v27sep5\n",
      "87. XA65oXA\n",
      "88. XA73vXA\n",
      "89. ZTF106N\n",
      "0. Sair\n"
     ]
    }
   ],
   "source": [
    "neo.start_neo()"
   ]
  },
  {
   "cell_type": "code",
   "execution_count": null,
   "id": "b6028b9f",
   "metadata": {},
   "outputs": [],
   "source": []
  }
 ],
 "metadata": {
  "kernelspec": {
   "display_name": "cipo",
   "language": "python",
   "name": "python3"
  },
  "language_info": {
   "codemirror_mode": {
    "name": "ipython",
    "version": 3
   },
   "file_extension": ".py",
   "mimetype": "text/x-python",
   "name": "python",
   "nbconvert_exporter": "python",
   "pygments_lexer": "ipython3",
   "version": "3.13.5"
  }
 },
 "nbformat": 4,
 "nbformat_minor": 5
}
