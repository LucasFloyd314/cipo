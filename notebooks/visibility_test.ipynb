{
 "cells": [
  {
   "cell_type": "code",
   "execution_count": 1,
   "id": "c2874e70",
   "metadata": {},
   "outputs": [
    {
     "name": "stderr",
     "output_type": "stream",
     "text": [
      "[#################################] 100% de421.bsp\n"
     ]
    },
    {
     "name": "stdout",
     "output_type": "stream",
     "text": [
      "Janelas de Observação (15 dias com Lua Nova centralizada):\n",
      "\n",
      "Janela: 2025-01-22 / 2025-02-05  |  Lua Nova: 2025-01-29\n",
      "Janela: 2025-02-21 / 2025-03-07  |  Lua Nova: 2025-02-28\n",
      "Janela: 2025-03-22 / 2025-04-05  |  Lua Nova: 2025-03-29\n",
      "Janela: 2025-04-20 / 2025-05-04  |  Lua Nova: 2025-04-27\n",
      "Janela: 2025-05-20 / 2025-06-03  |  Lua Nova: 2025-05-27\n",
      "Janela: 2025-06-18 / 2025-07-02  |  Lua Nova: 2025-06-25\n",
      "Janela: 2025-07-17 / 2025-07-31  |  Lua Nova: 2025-07-24\n",
      "Janela: 2025-08-16 / 2025-08-30  |  Lua Nova: 2025-08-23\n",
      "Janela: 2025-09-14 / 2025-09-28  |  Lua Nova: 2025-09-21\n",
      "Janela: 2025-10-14 / 2025-10-28  |  Lua Nova: 2025-10-21\n",
      "Janela: 2025-11-13 / 2025-11-27  |  Lua Nova: 2025-11-20\n",
      "Janela: 2025-12-13 / 2025-12-27  |  Lua Nova: 2025-12-20\n",
      "Janela: 2026-01-11 / 2026-01-25  |  Lua Nova: 2026-01-18\n",
      "Janela: 2026-02-10 / 2026-02-24  |  Lua Nova: 2026-02-17\n",
      "Janela: 2026-03-12 / 2026-03-26  |  Lua Nova: 2026-03-19\n",
      "Janela: 2026-04-10 / 2026-04-24  |  Lua Nova: 2026-04-17\n",
      "Janela: 2026-05-09 / 2026-05-23  |  Lua Nova: 2026-05-16\n",
      "Janela: 2026-06-08 / 2026-06-22  |  Lua Nova: 2026-06-15\n",
      "Janela: 2026-07-07 / 2026-07-21  |  Lua Nova: 2026-07-14\n",
      "Janela: 2026-08-05 / 2026-08-19  |  Lua Nova: 2026-08-12\n",
      "Janela: 2026-09-04 / 2026-09-18  |  Lua Nova: 2026-09-11\n",
      "Janela: 2026-10-03 / 2026-10-17  |  Lua Nova: 2026-10-10\n",
      "Janela: 2026-11-02 / 2026-11-16  |  Lua Nova: 2026-11-09\n",
      "Janela: 2026-12-02 / 2026-12-16  |  Lua Nova: 2026-12-09\n",
      "Janela: 2026-12-31 / 2027-01-14  |  Lua Nova: 2027-01-07\n",
      "Janela: 2027-01-30 / 2027-02-13  |  Lua Nova: 2027-02-06\n",
      "Janela: 2027-03-01 / 2027-03-15  |  Lua Nova: 2027-03-08\n",
      "Janela: 2027-03-30 / 2027-04-13  |  Lua Nova: 2027-04-06\n",
      "Janela: 2027-04-29 / 2027-05-13  |  Lua Nova: 2027-05-06\n",
      "Janela: 2027-05-28 / 2027-06-11  |  Lua Nova: 2027-06-04\n",
      "Janela: 2027-06-27 / 2027-07-11  |  Lua Nova: 2027-07-04\n",
      "Janela: 2027-07-26 / 2027-08-09  |  Lua Nova: 2027-08-02\n",
      "Janela: 2027-08-24 / 2027-09-07  |  Lua Nova: 2027-08-31\n",
      "Janela: 2027-09-23 / 2027-10-07  |  Lua Nova: 2027-09-30\n",
      "Janela: 2027-10-22 / 2027-11-05  |  Lua Nova: 2027-10-29\n",
      "Janela: 2027-11-21 / 2027-12-05  |  Lua Nova: 2027-11-28\n",
      "Janela: 2027-12-20 / 2028-01-03  |  Lua Nova: 2027-12-27\n",
      "Janela: 2028-01-19 / 2028-02-02  |  Lua Nova: 2028-01-26\n",
      "Janela: 2028-02-18 / 2028-03-03  |  Lua Nova: 2028-02-25\n",
      "Janela: 2028-03-19 / 2028-04-02  |  Lua Nova: 2028-03-26\n",
      "Janela: 2028-04-17 / 2028-05-01  |  Lua Nova: 2028-04-24\n",
      "Janela: 2028-05-17 / 2028-05-31  |  Lua Nova: 2028-05-24\n",
      "Janela: 2028-06-15 / 2028-06-29  |  Lua Nova: 2028-06-22\n",
      "Janela: 2028-07-15 / 2028-07-29  |  Lua Nova: 2028-07-22\n",
      "Janela: 2028-08-13 / 2028-08-27  |  Lua Nova: 2028-08-20\n",
      "Janela: 2028-09-11 / 2028-09-25  |  Lua Nova: 2028-09-18\n",
      "Janela: 2028-10-11 / 2028-10-25  |  Lua Nova: 2028-10-18\n",
      "Janela: 2028-11-09 / 2028-11-23  |  Lua Nova: 2028-11-16\n",
      "Janela: 2028-12-09 / 2028-12-23  |  Lua Nova: 2028-12-16\n",
      "Janela: 2029-01-07 / 2029-01-21  |  Lua Nova: 2029-01-14\n",
      "Janela: 2029-02-06 / 2029-02-20  |  Lua Nova: 2029-02-13\n",
      "Janela: 2029-03-08 / 2029-03-22  |  Lua Nova: 2029-03-15\n",
      "Janela: 2029-04-06 / 2029-04-20  |  Lua Nova: 2029-04-13\n",
      "Janela: 2029-05-06 / 2029-05-20  |  Lua Nova: 2029-05-13\n",
      "Janela: 2029-06-05 / 2029-06-19  |  Lua Nova: 2029-06-12\n",
      "Janela: 2029-07-04 / 2029-07-18  |  Lua Nova: 2029-07-11\n",
      "Janela: 2029-08-03 / 2029-08-17  |  Lua Nova: 2029-08-10\n",
      "Janela: 2029-09-01 / 2029-09-15  |  Lua Nova: 2029-09-08\n",
      "Janela: 2029-09-30 / 2029-10-14  |  Lua Nova: 2029-10-07\n",
      "Janela: 2029-10-30 / 2029-11-13  |  Lua Nova: 2029-11-06\n",
      "Janela: 2029-11-28 / 2029-12-12  |  Lua Nova: 2029-12-05\n"
     ]
    }
   ],
   "source": [
    "import cipo\n",
    "# Coordenadas do OASI\n",
    "latitude = -8.79225   # 8°47'32,1\" S\n",
    "longitude = -38.68853  # 38°41'18,7\" O\n",
    "\n",
    "# Parâmetros para o cálculo\n",
    "ano_inicial = 2025  # Ano de início\n",
    "n_anos = 5          # Intervalo de tempo em anos (incremento de 1 a 1 ano)\n",
    "\n",
    "janelas = cipo.calcular_janelas_observacao(latitude, longitude, ano_inicial, n_anos)\n",
    "\n",
    "print(\"Janelas de Observação (15 dias com Lua Nova centralizada):\\n\")\n",
    "for inicio, nova, fim in janelas:\n",
    "    print(f\"Janela: {inicio} / {fim}  |  Lua Nova: {nova}\")\n",
    "    "
   ]
  },
  {
   "cell_type": "code",
   "execution_count": null,
   "id": "778dc471",
   "metadata": {},
   "outputs": [],
   "source": []
  }
 ],
 "metadata": {
  "kernelspec": {
   "display_name": "cipo",
   "language": "python",
   "name": "python3"
  },
  "language_info": {
   "codemirror_mode": {
    "name": "ipython",
    "version": 3
   },
   "file_extension": ".py",
   "mimetype": "text/x-python",
   "name": "python",
   "nbconvert_exporter": "python",
   "pygments_lexer": "ipython3",
   "version": "3.13.5"
  }
 },
 "nbformat": 4,
 "nbformat_minor": 5
}
